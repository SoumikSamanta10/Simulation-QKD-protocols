{
 "cells": [
  {
   "cell_type": "code",
   "execution_count": 1,
   "metadata": {},
   "outputs": [],
   "source": [
    "from random import choice as IDK\n",
    "from qiskit import *"
   ]
  },
  {
   "cell_type": "code",
   "execution_count": 2,
   "metadata": {},
   "outputs": [],
   "source": [
    "def measure(qc, basis):\n",
    "    if basis == \"*\":\n",
    "        qc.h(0)\n",
    "    elif basis != \"+\":\n",
    "        raise ValueError('\"basis\" must be \"+\" or \"*\"!')\n",
    "    qc.measure(0, 0)\n",
    "\n",
    "    comp = Aer.get_backend(\"qasm_simulator\")\n",
    "    results = list(execute(qc, comp, shots = 1).result().get_counts().keys())[0]\n",
    "    return results"
   ]
  },
  {
   "cell_type": "code",
   "execution_count": 3,
   "metadata": {},
   "outputs": [],
   "source": [
    "def prepare(instruction):\n",
    "    a = int(instruction[0])  # X or not\n",
    "    b = int(instruction[1])  # H or not\n",
    "    qc = QuantumCircuit(1, 1)\n",
    "    basis = \"+\"\n",
    "    if a:\n",
    "        qc.x(0)\n",
    "    if b:\n",
    "        qc.h(0)\n",
    "        basis = \"*\"\n",
    "    print(f\"Expected Output: {a} in {basis} basis!\")\n",
    "    return qc"
   ]
  },
  {
   "cell_type": "code",
   "execution_count": 21,
   "metadata": {},
   "outputs": [
    {
     "name": "stdout",
     "output_type": "stream",
     "text": [
      "Expected Output: 1 in + basis!\n"
     ]
    }
   ],
   "source": [
    "qc = prepare(\"10\")"
   ]
  },
  {
   "cell_type": "code",
   "execution_count": 31,
   "metadata": {},
   "outputs": [
    {
     "data": {
      "text/plain": [
       "'1'"
      ]
     },
     "execution_count": 31,
     "metadata": {},
     "output_type": "execute_result"
    }
   ],
   "source": [
    "measure(qc, \"*\")"
   ]
  },
  {
   "cell_type": "code",
   "execution_count": 32,
   "metadata": {},
   "outputs": [
    {
     "data": {
      "image/png": "[encoded data removed]",
      "text/plain": [
       "<Figure size 675.326x144.48 with 1 Axes>"
      ]
     },
     "execution_count": 32,
     "metadata": {},
     "output_type": "execute_result"
    }
   ],
   "source": [
    "qc.draw(output=\"mpl\")"
   ]
  }
 ],
 "metadata": {
  "kernelspec": {
   "display_name": "Python 3.9.13 64-bit (windows store)",
   "language": "python",
   "name": "python3"
  },
  "language_info": {
   "codemirror_mode": {
    "name": "ipython",
    "version": 3
   },
   "file_extension": ".py",
   "mimetype": "text/x-python",
   "name": "python",
   "nbconvert_exporter": "python",
   "pygments_lexer": "ipython3",
   "version": "3.9.13"
  },
  "orig_nbformat": 4,
  "vscode": {
   "interpreter": {
    "hash": "95b59b4b0e72d3e94105c3ab4f1a1e6e746e4c2a7c235241251baf92fb36381f"
   }
  }
 },
 "nbformat": 4,
 "nbformat_minor": 2
}
