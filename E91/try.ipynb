{
 "cells": [
  {
   "cell_type": "code",
   "execution_count": 46,
   "metadata": {},
   "outputs": [],
   "source": [
    "from flask import Flask, request\n",
    "from qiskit import *\n",
    "from tqdm import tqdm\n",
    "\n",
    "singlets_sent = 5\n",
    "qcomp = Aer.get_backend(\"qasm_simulator\")"
   ]
  },
  {
   "cell_type": "code",
   "execution_count": 47,
   "metadata": {},
   "outputs": [],
   "source": [
    "def alice_measure(qc, basis): # basis = \"X\", \"W\" or \"Z\"\n",
    "    \"\"\"Alice's measurement circuits\"\"\"\n",
    "\n",
    "    if basis == \"X\":  # X basis\n",
    "        qc.h(0)\n",
    "        qc.measure(0,0)\n",
    "\n",
    "    elif basis == \"W\":  # W basis\n",
    "        qc.s(0)\n",
    "        qc.h(0)\n",
    "        qc.t(0)\n",
    "        qc.h(0)\n",
    "        qc.measure(0,0)\n",
    "\n",
    "    elif basis == \"Z\":  # Z basis\n",
    "        qc.measure(0,0)\n",
    "\n",
    "    else:\n",
    "        raise ValueError(\"Value of parameter 'basis' can be one of 'X', 'W' or 'Z'\")\n",
    "\n",
    "    # result = list(execute(qc, qcomp, shots = 1).result().get_counts().keys())[0]\n",
    "    result = execute(qc, qcomp, shots = 1000).result().get_counts()\n",
    "    # if result[-1] == \"1\":\n",
    "    #     return \"1\"\n",
    "    # return \"0\"\n",
    "    return result"
   ]
  },
  {
   "cell_type": "code",
   "execution_count": 48,
   "metadata": {},
   "outputs": [],
   "source": [
    "def bob_measure(qc, basis): # basis = \"W\", \"Z\" or \"V\"\n",
    "    \"\"\"Bob's measurement circuits\"\"\"\n",
    "\n",
    "    if basis == \"W\":  # W basis\n",
    "        qc.s(1)\n",
    "        qc.h(1)\n",
    "        qc.t(1)\n",
    "        qc.h(1)\n",
    "        qc.measure(1,1)\n",
    "\n",
    "    elif basis == \"Z\":  # Z basis\n",
    "        qc.measure(1,1)\n",
    "\n",
    "    elif basis == \"V\":  # V basis\n",
    "        qc.s(1)\n",
    "        qc.h(1)\n",
    "        qc.tdg(1)\n",
    "        qc.h(1)\n",
    "        qc.measure(1,1)\n",
    "\n",
    "    else:\n",
    "        raise ValueError(\"Value of parameter 'basis' can be one of 'W', 'Z' or 'V'\")\n",
    "\n",
    "    # result = list(execute(qc, qcomp, shots = 1).result().get_counts().keys())[0]\n",
    "    result = execute(qc, qcomp, shots = 1000).result().get_counts()\n",
    "    # if result[-1] == \"1\":\n",
    "    #     return \"1\"\n",
    "    # return \"0\"\n",
    "    return result"
   ]
  },
  {
   "cell_type": "code",
   "execution_count": 51,
   "metadata": {},
   "outputs": [
    {
     "name": "stdout",
     "output_type": "stream",
     "text": [
      "{'0001': 525, '0010': 475}\n"
     ]
    }
   ],
   "source": [
    "singlet = QuantumCircuit(2, 4, name='singlet')\n",
    "singlet.x(0)\n",
    "singlet.x(1)\n",
    "singlet.h(0)\n",
    "singlet.cx(0, 1)\n",
    "alice_measure(singlet, \"Z\")\n",
    "print(bob_measure(singlet, \"Z\"))"
   ]
  },
  {
   "cell_type": "code",
   "execution_count": 50,
   "metadata": {},
   "outputs": [
    {
     "data": {
      "image/png": "[encoded data removed]",
      "text/plain": [
       "<Figure size 628.252x204.68 with 1 Axes>"
      ]
     },
     "execution_count": 50,
     "metadata": {},
     "output_type": "execute_result"
    }
   ],
   "source": [
    "singlet.draw()"
   ]
  },
  {
   "cell_type": "code",
   "execution_count": null,
   "metadata": {},
   "outputs": [],
   "source": [
    "ret = \"\"\n",
    "bases = \"XWXWZ\"\n",
    "for i, base in tqdm(enumerate(bases)):\n",
    "    ret += f\"{alice_measure(singlets[i], base)}|\""
   ]
  },
  {
   "cell_type": "code",
   "execution_count": null,
   "metadata": {},
   "outputs": [],
   "source": [
    "# function that calculates CHSH correlation value\n",
    "def chsh_corr(result):\n",
    "\n",
    "    f = result.get_counts()\n",
    "\n",
    "    # lists with the counts of measurement results\n",
    "    # each element represents the number of (-1,-1), (-1,1), (1,-1) and (1,1) results respectively\n",
    "    XW = [0, 0, 0, 0] # XW observable\n",
    "    XV = [0, 0, 0, 0] # XV observable\n",
    "    ZW = [0, 0, 0, 0] # ZW observable\n",
    "    ZV = [0, 0, 0, 0] # ZV observable\n",
    "    search = [\"00\", \"01\", \"10\", \"11\"]\n",
    "\n",
    "    for i in range(singlets_sent):\n",
    "\n",
    "        res = list(f[i].keys())[0]\n",
    "\n",
    "        # if the spins of the qubits of the i-th singlet were projected onto the a_1/b_1 directions\n",
    "        if (bases[\"alice\"][i] == 1 and bases[\"bob\"][i] == 1):\n",
    "            for j in range(4):\n",
    "                if res.endswith(search[j]):\n",
    "                    XW[j] += 1\n",
    "\n",
    "        if (bases[\"alice\"][i] == 1 and bases[\"bob\"][i] == 3):\n",
    "            for j in range(4):\n",
    "                if res.endswith(search[j]):\n",
    "                    XV[j] += 1\n",
    "\n",
    "        if (bases[\"alice\"][i] == 3 and bases[\"bob\"][i] == 1):\n",
    "            for j in range(4):\n",
    "                if res.endswith(search[j]):\n",
    "                    ZW[j] += 1\n",
    "\n",
    "        # if the spins of the qubits of the i-th singlet were projected onto the a_3/b_3 directions\n",
    "        if (bases[\"alice\"][i] == 3 and bases[\"bob\"][i] == 3):\n",
    "            for j in range(4):\n",
    "                if res.endswith(search[j]):\n",
    "                    ZV[j] += 1   \n",
    "\n",
    "    # expectation values of XW, XV, ZW and ZV observables (2)\n",
    "    expMaMa = (XW[0] - XW[1] - XW[2] + XW[3])/sum(XW) # -1/sqrt(2)\n",
    "    expMaMc = (XV[0] - XV[1] - XV[2] + XV[3])/sum(XV) # 1/sqrt(2)\n",
    "    expMcMa = (ZW[0] - ZW[1] - ZW[2] + ZW[3])/sum(ZW) # -1/sqrt(2)\n",
    "    expMcMc = (ZV[0] - ZV[1] - ZV[2] + ZV[3])/sum(ZV) # -1/sqrt(2) \n",
    "\n",
    "    return expMaMa - expMaMc + expMcMa + expMcMc"
   ]
  }
 ],
 "metadata": {
  "kernelspec": {
   "display_name": "Python 3.9.13 64-bit (windows store)",
   "language": "python",
   "name": "python3"
  },
  "language_info": {
   "codemirror_mode": {
    "name": "ipython",
    "version": 3
   },
   "file_extension": ".py",
   "mimetype": "text/x-python",
   "name": "python",
   "nbconvert_exporter": "python",
   "pygments_lexer": "ipython3",
   "version": "3.9.13"
  },
  "orig_nbformat": 4,
  "vscode": {
   "interpreter": {
    "hash": "95b59b4b0e72d3e94105c3ab4f1a1e6e746e4c2a7c235241251baf92fb36381f"
   }
  }
 },
 "nbformat": 4,
 "nbformat_minor": 2
}
